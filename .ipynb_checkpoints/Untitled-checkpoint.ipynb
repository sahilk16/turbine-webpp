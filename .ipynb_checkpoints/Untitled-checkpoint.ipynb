{
 "cells": [
  {
   "cell_type": "code",
   "execution_count": null,
   "metadata": {},
   "outputs": [],
   "source": [
    "import numpy as np\n",
    "from flask import Flask, request, jsonify, render_template, url_for\n",
    "import pickle\n",
    "\n",
    "\n",
    "app = Flask(__name__)\n",
    "#model = pickle.load(open('randomForestRegressor.pkl','rb'))\n",
    "    \n",
    "\n",
    "@app.route('/')\n",
    "def home():\n",
    "    #return 'Hello World'\n",
    "    return render_template('home.html')\n",
    "    #return render_template('index.html')\n",
    "\n",
    "@app.route('/predict',methods = ['POST'])\n",
    "def predict():\n",
    "    int_features = [float(x) for x in request.form.values()]\n",
    "    final_features = [np.array(int_features)]\n",
    "    prediction = model.predict(final_features)\n",
    "    print(prediction[0])\n",
    "\n",
    "    #output = round(prediction[0], 2)\n",
    "    return render_template('home.html', prediction_text=\"AQI for Jaipur {}\".format(prediction[0]))\n",
    "\n",
    "@app.route('/predict_api',methods=['POST'])\n",
    "def predict_api():\n",
    "    '''\n",
    "    For direct API calls trought request\n",
    "    '''\n",
    "    data = request.get_json(force=True)\n",
    "    prediction = model.predict([np.array(list(data.values()))])\n",
    "\n",
    "    output = prediction[0]\n",
    "    return jsonify(output)\n",
    "\n",
    "\n",
    "\n",
    "if __name__ == '__main__':\n",
    "    app.run(debug=True)"
   ]
  },
  {
   "cell_type": "code",
   "execution_count": 35,
   "metadata": {},
   "outputs": [
    {
     "name": "stdout",
     "output_type": "stream",
     "text": [
      "Data is : [[0.        ]\n",
      " [1.        ]\n",
      " [0.01347973]]\n"
     ]
    },
    {
     "ename": "RuntimeError",
     "evalue": "Working outside of application context.\n\nThis typically means that you attempted to use functionality that needed\nto interface with the current application object in some way. To solve\nthis, set up an application context with app.app_context().  See the\ndocumentation for more information.",
     "output_type": "error",
     "traceback": [
      "\u001b[1;31m---------------------------------------------------------------------------\u001b[0m",
      "\u001b[1;31mRuntimeError\u001b[0m                              Traceback (most recent call last)",
      "\u001b[1;32m<ipython-input-35-bdb5e1dd78d8>\u001b[0m in \u001b[0;36m<module>\u001b[1;34m\u001b[0m\n\u001b[0;32m     34\u001b[0m     \u001b[1;32massert\u001b[0m \u001b[0mint\u001b[0m\u001b[1;33m(\u001b[0m\u001b[0mresp\u001b[0m\u001b[1;33m.\u001b[0m\u001b[0mheaders\u001b[0m\u001b[1;33m.\u001b[0m\u001b[0mget\u001b[0m\u001b[1;33m(\u001b[0m\u001b[1;34m'Content-Length'\u001b[0m\u001b[1;33m)\u001b[0m\u001b[1;33m)\u001b[0m \u001b[1;33m>\u001b[0m \u001b[1;36m0\u001b[0m\u001b[1;33m\u001b[0m\u001b[1;33m\u001b[0m\u001b[0m\n\u001b[0;32m     35\u001b[0m \u001b[1;33m\u001b[0m\u001b[0m\n\u001b[1;32m---> 36\u001b[1;33m \u001b[0mtest_ml_service\u001b[0m\u001b[1;33m(\u001b[0m\u001b[0mscoreurl\u001b[0m\u001b[1;33m=\u001b[0m\u001b[0mscoreurl\u001b[0m\u001b[1;33m)\u001b[0m\u001b[1;33m\u001b[0m\u001b[1;33m\u001b[0m\u001b[0m\n\u001b[0m",
      "\u001b[1;32m<ipython-input-35-bdb5e1dd78d8>\u001b[0m in \u001b[0;36mtest_ml_service\u001b[1;34m(scoreurl)\u001b[0m\n\u001b[0;32m     22\u001b[0m     \u001b[0mdata\u001b[0m \u001b[1;33m=\u001b[0m  \u001b[0msc\u001b[0m\u001b[1;33m.\u001b[0m\u001b[0mfit_transform\u001b[0m\u001b[1;33m(\u001b[0m\u001b[0mnp\u001b[0m\u001b[1;33m.\u001b[0m\u001b[0marray\u001b[0m\u001b[1;33m(\u001b[0m\u001b[0mtest_sample\u001b[0m\u001b[1;33m[\u001b[0m\u001b[1;34m'data'\u001b[0m\u001b[1;33m]\u001b[0m\u001b[1;33m)\u001b[0m\u001b[1;33m.\u001b[0m\u001b[0mreshape\u001b[0m\u001b[1;33m(\u001b[0m\u001b[1;33m-\u001b[0m\u001b[1;36m1\u001b[0m\u001b[1;33m,\u001b[0m\u001b[1;36m1\u001b[0m\u001b[1;33m)\u001b[0m\u001b[1;33m)\u001b[0m\u001b[1;33m\u001b[0m\u001b[1;33m\u001b[0m\u001b[0m\n\u001b[0;32m     23\u001b[0m     \u001b[0mprint\u001b[0m\u001b[1;33m(\u001b[0m\u001b[1;34m'Data is :'\u001b[0m\u001b[1;33m,\u001b[0m \u001b[0mdata\u001b[0m\u001b[1;33m)\u001b[0m\u001b[1;33m\u001b[0m\u001b[1;33m\u001b[0m\u001b[0m\n\u001b[1;32m---> 24\u001b[1;33m     \u001b[0mdata2\u001b[0m \u001b[1;33m=\u001b[0m \u001b[0mjsonify\u001b[0m\u001b[1;33m(\u001b[0m\u001b[1;33m{\u001b[0m\u001b[1;34m'data1'\u001b[0m\u001b[1;33m:\u001b[0m \u001b[0mdata\u001b[0m\u001b[1;33m}\u001b[0m\u001b[1;33m)\u001b[0m\u001b[1;33m\u001b[0m\u001b[1;33m\u001b[0m\u001b[0m\n\u001b[0m\u001b[0;32m     25\u001b[0m     \u001b[0mdata3\u001b[0m \u001b[1;33m=\u001b[0m \u001b[0mstr\u001b[0m\u001b[1;33m(\u001b[0m\u001b[0mdata2\u001b[0m\u001b[1;33m)\u001b[0m\u001b[1;33m\u001b[0m\u001b[1;33m\u001b[0m\u001b[0m\n\u001b[0;32m     26\u001b[0m     \u001b[0mprint\u001b[0m\u001b[1;33m(\u001b[0m\u001b[0mtype\u001b[0m\u001b[1;33m(\u001b[0m\u001b[0mdata3\u001b[0m\u001b[1;33m)\u001b[0m\u001b[1;33m)\u001b[0m\u001b[1;33m\u001b[0m\u001b[1;33m\u001b[0m\u001b[0m\n",
      "\u001b[1;32m~\\AppData\\Local\\Continuum\\anaconda3\\lib\\site-packages\\flask\\json\\__init__.py\u001b[0m in \u001b[0;36mjsonify\u001b[1;34m(*args, **kwargs)\u001b[0m\n\u001b[0;32m    307\u001b[0m     \u001b[0mseparators\u001b[0m \u001b[1;33m=\u001b[0m \u001b[1;33m(\u001b[0m\u001b[1;34m','\u001b[0m\u001b[1;33m,\u001b[0m \u001b[1;34m':'\u001b[0m\u001b[1;33m)\u001b[0m\u001b[1;33m\u001b[0m\u001b[1;33m\u001b[0m\u001b[0m\n\u001b[0;32m    308\u001b[0m \u001b[1;33m\u001b[0m\u001b[0m\n\u001b[1;32m--> 309\u001b[1;33m     \u001b[1;32mif\u001b[0m \u001b[0mcurrent_app\u001b[0m\u001b[1;33m.\u001b[0m\u001b[0mconfig\u001b[0m\u001b[1;33m[\u001b[0m\u001b[1;34m'JSONIFY_PRETTYPRINT_REGULAR'\u001b[0m\u001b[1;33m]\u001b[0m \u001b[1;32mor\u001b[0m \u001b[0mcurrent_app\u001b[0m\u001b[1;33m.\u001b[0m\u001b[0mdebug\u001b[0m\u001b[1;33m:\u001b[0m\u001b[1;33m\u001b[0m\u001b[1;33m\u001b[0m\u001b[0m\n\u001b[0m\u001b[0;32m    310\u001b[0m         \u001b[0mindent\u001b[0m \u001b[1;33m=\u001b[0m \u001b[1;36m2\u001b[0m\u001b[1;33m\u001b[0m\u001b[1;33m\u001b[0m\u001b[0m\n\u001b[0;32m    311\u001b[0m         \u001b[0mseparators\u001b[0m \u001b[1;33m=\u001b[0m \u001b[1;33m(\u001b[0m\u001b[1;34m', '\u001b[0m\u001b[1;33m,\u001b[0m \u001b[1;34m': '\u001b[0m\u001b[1;33m)\u001b[0m\u001b[1;33m\u001b[0m\u001b[1;33m\u001b[0m\u001b[0m\n",
      "\u001b[1;32m~\\AppData\\Local\\Continuum\\anaconda3\\lib\\site-packages\\werkzeug\\local.py\u001b[0m in \u001b[0;36m__getattr__\u001b[1;34m(self, name)\u001b[0m\n\u001b[0;32m    345\u001b[0m         \u001b[1;32mif\u001b[0m \u001b[0mname\u001b[0m \u001b[1;33m==\u001b[0m \u001b[1;34m'__members__'\u001b[0m\u001b[1;33m:\u001b[0m\u001b[1;33m\u001b[0m\u001b[1;33m\u001b[0m\u001b[0m\n\u001b[0;32m    346\u001b[0m             \u001b[1;32mreturn\u001b[0m \u001b[0mdir\u001b[0m\u001b[1;33m(\u001b[0m\u001b[0mself\u001b[0m\u001b[1;33m.\u001b[0m\u001b[0m_get_current_object\u001b[0m\u001b[1;33m(\u001b[0m\u001b[1;33m)\u001b[0m\u001b[1;33m)\u001b[0m\u001b[1;33m\u001b[0m\u001b[1;33m\u001b[0m\u001b[0m\n\u001b[1;32m--> 347\u001b[1;33m         \u001b[1;32mreturn\u001b[0m \u001b[0mgetattr\u001b[0m\u001b[1;33m(\u001b[0m\u001b[0mself\u001b[0m\u001b[1;33m.\u001b[0m\u001b[0m_get_current_object\u001b[0m\u001b[1;33m(\u001b[0m\u001b[1;33m)\u001b[0m\u001b[1;33m,\u001b[0m \u001b[0mname\u001b[0m\u001b[1;33m)\u001b[0m\u001b[1;33m\u001b[0m\u001b[1;33m\u001b[0m\u001b[0m\n\u001b[0m\u001b[0;32m    348\u001b[0m \u001b[1;33m\u001b[0m\u001b[0m\n\u001b[0;32m    349\u001b[0m     \u001b[1;32mdef\u001b[0m \u001b[0m__setitem__\u001b[0m\u001b[1;33m(\u001b[0m\u001b[0mself\u001b[0m\u001b[1;33m,\u001b[0m \u001b[0mkey\u001b[0m\u001b[1;33m,\u001b[0m \u001b[0mvalue\u001b[0m\u001b[1;33m)\u001b[0m\u001b[1;33m:\u001b[0m\u001b[1;33m\u001b[0m\u001b[1;33m\u001b[0m\u001b[0m\n",
      "\u001b[1;32m~\\AppData\\Local\\Continuum\\anaconda3\\lib\\site-packages\\werkzeug\\local.py\u001b[0m in \u001b[0;36m_get_current_object\u001b[1;34m(self)\u001b[0m\n\u001b[0;32m    304\u001b[0m         \"\"\"\n\u001b[0;32m    305\u001b[0m         \u001b[1;32mif\u001b[0m \u001b[1;32mnot\u001b[0m \u001b[0mhasattr\u001b[0m\u001b[1;33m(\u001b[0m\u001b[0mself\u001b[0m\u001b[1;33m.\u001b[0m\u001b[0m__local\u001b[0m\u001b[1;33m,\u001b[0m \u001b[1;34m'__release_local__'\u001b[0m\u001b[1;33m)\u001b[0m\u001b[1;33m:\u001b[0m\u001b[1;33m\u001b[0m\u001b[1;33m\u001b[0m\u001b[0m\n\u001b[1;32m--> 306\u001b[1;33m             \u001b[1;32mreturn\u001b[0m \u001b[0mself\u001b[0m\u001b[1;33m.\u001b[0m\u001b[0m__local\u001b[0m\u001b[1;33m(\u001b[0m\u001b[1;33m)\u001b[0m\u001b[1;33m\u001b[0m\u001b[1;33m\u001b[0m\u001b[0m\n\u001b[0m\u001b[0;32m    307\u001b[0m         \u001b[1;32mtry\u001b[0m\u001b[1;33m:\u001b[0m\u001b[1;33m\u001b[0m\u001b[1;33m\u001b[0m\u001b[0m\n\u001b[0;32m    308\u001b[0m             \u001b[1;32mreturn\u001b[0m \u001b[0mgetattr\u001b[0m\u001b[1;33m(\u001b[0m\u001b[0mself\u001b[0m\u001b[1;33m.\u001b[0m\u001b[0m__local\u001b[0m\u001b[1;33m,\u001b[0m \u001b[0mself\u001b[0m\u001b[1;33m.\u001b[0m\u001b[0m__name__\u001b[0m\u001b[1;33m)\u001b[0m\u001b[1;33m\u001b[0m\u001b[1;33m\u001b[0m\u001b[0m\n",
      "\u001b[1;32m~\\AppData\\Local\\Continuum\\anaconda3\\lib\\site-packages\\flask\\globals.py\u001b[0m in \u001b[0;36m_find_app\u001b[1;34m()\u001b[0m\n\u001b[0;32m     49\u001b[0m     \u001b[0mtop\u001b[0m \u001b[1;33m=\u001b[0m \u001b[0m_app_ctx_stack\u001b[0m\u001b[1;33m.\u001b[0m\u001b[0mtop\u001b[0m\u001b[1;33m\u001b[0m\u001b[1;33m\u001b[0m\u001b[0m\n\u001b[0;32m     50\u001b[0m     \u001b[1;32mif\u001b[0m \u001b[0mtop\u001b[0m \u001b[1;32mis\u001b[0m \u001b[1;32mNone\u001b[0m\u001b[1;33m:\u001b[0m\u001b[1;33m\u001b[0m\u001b[1;33m\u001b[0m\u001b[0m\n\u001b[1;32m---> 51\u001b[1;33m         \u001b[1;32mraise\u001b[0m \u001b[0mRuntimeError\u001b[0m\u001b[1;33m(\u001b[0m\u001b[0m_app_ctx_err_msg\u001b[0m\u001b[1;33m)\u001b[0m\u001b[1;33m\u001b[0m\u001b[1;33m\u001b[0m\u001b[0m\n\u001b[0m\u001b[0;32m     52\u001b[0m     \u001b[1;32mreturn\u001b[0m \u001b[0mtop\u001b[0m\u001b[1;33m.\u001b[0m\u001b[0mapp\u001b[0m\u001b[1;33m\u001b[0m\u001b[1;33m\u001b[0m\u001b[0m\n\u001b[0;32m     53\u001b[0m \u001b[1;33m\u001b[0m\u001b[0m\n",
      "\u001b[1;31mRuntimeError\u001b[0m: Working outside of application context.\n\nThis typically means that you attempted to use functionality that needed\nto interface with the current application object in some way. To solve\nthis, set up an application context with app.app_context().  See the\ndocumentation for more information."
     ]
    }
   ],
   "source": [
    "import requests\n",
    "import json\n",
    "from sklearn.preprocessing import MinMaxScaler\n",
    "import numpy as np\n",
    "import itertools\n",
    "\n",
    "test_sample = {'data': [\n",
    "    [3.08, 739.0, 13.0]\n",
    "]}\n",
    "#test_sample = str(test_sample)\n",
    "\n",
    "scoreurl = 'http://a33f08e4-a26a-4f35-8265-6d72c3a2ecb3.westeurope.azurecontainer.io/score'\n",
    "\n",
    "def test_ml_service(scoreurl):\n",
    "    assert scoreurl != None\n",
    "    sc = MinMaxScaler()\n",
    "\n",
    "    \n",
    "    headers = {'Content-Type':'application/json'}\n",
    "    data =  sc.fit_transform(np.array(test_sample['data']).reshape(-1,1))\n",
    "    print('Data is :', data)\n",
    "    data2 = jsonify({'data1': data})\n",
    "    data3 = str(data2)\n",
    "    print(type(data3))\n",
    "    resp = requests.post(scoreurl, data3, headers=headers)\n",
    "    print(resp)\n",
    "    print(resp.text)\n",
    "    print(resp.headers.get('content-type'))\n",
    "    assert resp.status_code == requests.codes.ok\n",
    "    assert resp.text != None\n",
    "    assert resp.headers.get('content-type') == 'application/json'\n",
    "    assert int(resp.headers.get('Content-Length')) > 0\n",
    "    \n",
    "test_ml_service(scoreurl=scoreurl)\n"
   ]
  },
  {
   "cell_type": "code",
   "execution_count": null,
   "metadata": {},
   "outputs": [],
   "source": [
    "test_sample = {'data': [\n",
    "    [3.08, 739.0, 13.0], \n",
    "    [4.08, 759.0, 12.0]\n",
    "]}\n",
    "\n",
    "\n",
    "test_sample['data'][0]"
   ]
  },
  {
   "cell_type": "code",
   "execution_count": null,
   "metadata": {},
   "outputs": [],
   "source": []
  },
  {
   "cell_type": "code",
   "execution_count": 31,
   "metadata": {},
   "outputs": [
    {
     "name": "stdout",
     "output_type": "stream",
     "text": [
      "<class 'str'>\n",
      "test sample is: {\"data\": [[3.08, 739.0, 13.0], [4.08, 759.0, 12.0]]}\n",
      "\"{\\\"result\\\": [[-40.53585496396292], [-39.52890104227138]]}\"\n"
     ]
    }
   ],
   "source": [
    "import requests\n",
    "import json\n",
    "\n",
    "test_sample = json.dumps({'data': [\n",
    "    [3.08, 739.0, 13.0], \n",
    "    [4.08, 759.0, 12.0]\n",
    "]})\n",
    "test_sample = str(test_sample)\n",
    "scoreurl = 'http://a33f08e4-a26a-4f35-8265-6d72c3a2ecb3.westeurope.azurecontainer.io/score'\n",
    "\n",
    "def test_ml_service(scoreurl):\n",
    "    assert scoreurl != None\n",
    "\n",
    "    \n",
    "    headers = {'Content-Type':'application/json'}\n",
    "    print(type(test_sample))\n",
    "    print('test sample is:', test_sample)\n",
    "\n",
    "    resp = requests.post(scoreurl, test_sample, headers=headers)\n",
    "    print(resp.text)\n",
    "    assert resp.status_code == requests.codes.ok\n",
    "    assert resp.text != None\n",
    "    assert resp.headers.get('content-type') == 'application/json'\n",
    "    assert int(resp.headers.get('Content-Length')) > 0\n",
    "    \n",
    "test_ml_service(scoreurl=scoreurl)\n"
   ]
  },
  {
   "cell_type": "code",
   "execution_count": null,
   "metadata": {},
   "outputs": [],
   "source": []
  },
  {
   "cell_type": "code",
   "execution_count": null,
   "metadata": {},
   "outputs": [],
   "source": []
  },
  {
   "cell_type": "code",
   "execution_count": null,
   "metadata": {},
   "outputs": [
    {
     "name": "stdout",
     "output_type": "stream",
     "text": [
      "starting the app\n",
      " * Serving Flask app \"__main__\" (lazy loading)\n",
      " * Environment: production\n",
      "   WARNING: Do not use the development server in a production environment.\n",
      "   Use a production WSGI server instead.\n",
      " * Debug mode: on\n"
     ]
    },
    {
     "name": "stderr",
     "output_type": "stream",
     "text": [
      " * Running on http://127.0.0.1:1000/ (Press CTRL+C to quit)\n",
      "127.0.0.1 - - [22/May/2020 13:14:19] \"GET / HTTP/1.1\" 200 -\n",
      "127.0.0.1 - - [22/May/2020 13:14:26] \"POST /prediction HTTP/1.1\" 500 -\n",
      "Traceback (most recent call last):\n",
      "  File \"C:\\Users\\sahil.karkhanis\\AppData\\Local\\Continuum\\anaconda3\\lib\\site-packages\\flask\\app.py\", line 2309, in __call__\n",
      "    return self.wsgi_app(environ, start_response)\n",
      "  File \"C:\\Users\\sahil.karkhanis\\AppData\\Local\\Continuum\\anaconda3\\lib\\site-packages\\flask\\app.py\", line 2295, in wsgi_app\n",
      "    response = self.handle_exception(e)\n",
      "  File \"C:\\Users\\sahil.karkhanis\\AppData\\Local\\Continuum\\anaconda3\\lib\\site-packages\\flask\\app.py\", line 1741, in handle_exception\n",
      "    reraise(exc_type, exc_value, tb)\n",
      "  File \"C:\\Users\\sahil.karkhanis\\AppData\\Local\\Continuum\\anaconda3\\lib\\site-packages\\flask\\_compat.py\", line 35, in reraise\n",
      "    raise value\n",
      "  File \"C:\\Users\\sahil.karkhanis\\AppData\\Local\\Continuum\\anaconda3\\lib\\site-packages\\flask\\app.py\", line 2292, in wsgi_app\n",
      "    response = self.full_dispatch_request()\n",
      "  File \"C:\\Users\\sahil.karkhanis\\AppData\\Local\\Continuum\\anaconda3\\lib\\site-packages\\flask\\app.py\", line 1815, in full_dispatch_request\n",
      "    rv = self.handle_user_exception(e)\n",
      "  File \"C:\\Users\\sahil.karkhanis\\AppData\\Local\\Continuum\\anaconda3\\lib\\site-packages\\flask\\app.py\", line 1718, in handle_user_exception\n",
      "    reraise(exc_type, exc_value, tb)\n",
      "  File \"C:\\Users\\sahil.karkhanis\\AppData\\Local\\Continuum\\anaconda3\\lib\\site-packages\\flask\\_compat.py\", line 35, in reraise\n",
      "    raise value\n",
      "  File \"C:\\Users\\sahil.karkhanis\\AppData\\Local\\Continuum\\anaconda3\\lib\\site-packages\\flask\\app.py\", line 1813, in full_dispatch_request\n",
      "    rv = self.dispatch_request()\n",
      "  File \"C:\\Users\\sahil.karkhanis\\AppData\\Local\\Continuum\\anaconda3\\lib\\site-packages\\flask\\app.py\", line 1799, in dispatch_request\n",
      "    return self.view_functions[rule.endpoint](**req.view_args)\n",
      "  File \"<ipython-input-38-553d5eb6a4d7>\", line 40, in prediction\n",
      "    \n",
      "TypeError: dump() missing 1 required positional argument: 'fp'\n",
      "127.0.0.1 - - [22/May/2020 13:14:26] \"GET /prediction?__debugger__=yes&cmd=resource&f=style.css HTTP/1.1\" 200 -\n",
      "127.0.0.1 - - [22/May/2020 13:14:26] \"GET /prediction?__debugger__=yes&cmd=resource&f=jquery.js HTTP/1.1\" 200 -\n",
      "127.0.0.1 - - [22/May/2020 13:14:26] \"GET /prediction?__debugger__=yes&cmd=resource&f=debugger.js HTTP/1.1\" 200 -\n"
     ]
    },
    {
     "name": "stdout",
     "output_type": "stream",
     "text": [
      "[[0.06916427 0.28892216 0.125     ]]\n",
      "reached the scaling part\n"
     ]
    },
    {
     "name": "stderr",
     "output_type": "stream",
     "text": [
      "127.0.0.1 - - [22/May/2020 13:14:26] \"GET /prediction?__debugger__=yes&cmd=resource&f=console.png HTTP/1.1\" 200 -\n",
      "127.0.0.1 - - [22/May/2020 13:14:26] \"GET /prediction?__debugger__=yes&cmd=resource&f=ubuntu.ttf HTTP/1.1\" 200 -\n"
     ]
    }
   ],
   "source": [
    "import numpy as np\n",
    "from flask import Flask, request, jsonify, render_template, url_for\n",
    "import pickle\n",
    "import pandas as pd\n",
    "from sklearn.preprocessing import MinMaxScaler\n",
    "import requests\n",
    "\n",
    "\n",
    "app = Flask(__name__)\n",
    "\n",
    "scoreurl = 'http://a33f08e4-a26a-4f35-8265-6d72c3a2ecb3.westeurope.azurecontainer.io/score'\n",
    "\n",
    "def scaling(test):\n",
    "    file = pd.read_csv('data/turbine_training_set.csv')\n",
    "    file = file[['Turbine_exit_pressure_bar',\\\n",
    "              'Turbine_exit_temperature_C',\\\n",
    "              'Ship_speed_knots']]\n",
    "    sc = MinMaxScaler()\n",
    "    train = sc.fit_transform(file)\n",
    "    test = sc.transform(test)\n",
    "    return test\n",
    "      \n",
    "\n",
    "@app.route('/')\n",
    "def home():\n",
    "    #return 'Hello World'\n",
    "    return render_template('home.html')\n",
    "    #return render_template('index.html')\n",
    "\n",
    "@app.route('/prediction',methods = ['POST'])\n",
    "def prediction():\n",
    "    scoreurl = 'http://a33f08e4-a26a-4f35-8265-6d72c3a2ecb3.westeurope.azurecontainer.io/score'\n",
    "    int_features = [float(x) for x in request.form.values()]\n",
    "    final_features = [np.array(int_features)]\n",
    "    #print(final_features)\n",
    "    scaled = scaling(final_features)\n",
    "    print(scaled)\n",
    "    print('reached the scaling part')\n",
    "    \n",
    "   \n",
    "    headers = {'Content-Type':'application/json'}\n",
    "    resp = requests.post(scoreurl, scaled, headers=headers)\n",
    "    print(resp)\n",
    "    print(resp.text)\n",
    "\n",
    "    #output = round(prediction[0], 2)\n",
    "    return render_template('home.html', prediction_text=\"Turbine Outpur {}\".format(resp[0]))\n",
    "\n",
    "@app.route('/predict_api',methods=['POST'])\n",
    "def predict_api():\n",
    "    '''\n",
    "    For direct API calls trought request\n",
    "    '''\n",
    "    data = request.get_json(force=True)\n",
    "    scaled = scaling(data)\n",
    "    headers = {'Content-Type':'application/json'}\n",
    "    resp = requests.post(scoreurl, scaled, headers=headers)\n",
    "    \n",
    "    print(resp)\n",
    "    print(resp.text)\n",
    "    \n",
    "    \n",
    "    \n",
    "    #prediction = model.predict([np.array(list(data.values()))])\n",
    "\n",
    "    output = resp[0]\n",
    "    return jsonify(output)\n",
    "\n",
    "\n",
    "\n",
    "if __name__ == '__main__':\n",
    "    print('starting the app')\n",
    "    app.run(port = 1000, debug=True, use_reloader=False )"
   ]
  },
  {
   "cell_type": "code",
   "execution_count": 4,
   "metadata": {},
   "outputs": [],
   "source": [
    "test = [np.array([  1.33, 635.  ,   6.  ])]"
   ]
  },
  {
   "cell_type": "code",
   "execution_count": 19,
   "metadata": {},
   "outputs": [],
   "source": [
    "def scaling(test):\n",
    "    file = pd.read_csv('data/turbine_training_set.csv')\n",
    "    file = file[['Turbine_exit_pressure_bar',\\\n",
    "              'Turbine_exit_temperature_C',\\\n",
    "              'Ship_speed_knots']]\n",
    "    sc = MinMaxScaler()\n",
    "    train = sc.fit_transform(file)\n",
    "    test = sc.transform(test)\n",
    "    return test"
   ]
  },
  {
   "cell_type": "code",
   "execution_count": 20,
   "metadata": {},
   "outputs": [
    {
     "data": {
      "text/plain": [
       "array([[0.06916427, 0.28892216, 0.125     ]])"
      ]
     },
     "execution_count": 20,
     "metadata": {},
     "output_type": "execute_result"
    }
   ],
   "source": [
    "scaling(test)"
   ]
  },
  {
   "cell_type": "code",
   "execution_count": null,
   "metadata": {},
   "outputs": [],
   "source": []
  }
 ],
 "metadata": {
  "kernelspec": {
   "display_name": "Python 3",
   "language": "python",
   "name": "python3"
  },
  "language_info": {
   "codemirror_mode": {
    "name": "ipython",
    "version": 3
   },
   "file_extension": ".py",
   "mimetype": "text/x-python",
   "name": "python",
   "nbconvert_exporter": "python",
   "pygments_lexer": "ipython3",
   "version": "3.7.3"
  }
 },
 "nbformat": 4,
 "nbformat_minor": 2
}
