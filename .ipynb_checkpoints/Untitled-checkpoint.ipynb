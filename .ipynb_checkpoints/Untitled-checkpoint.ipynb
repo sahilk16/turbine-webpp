{
 "cells": [
  {
   "cell_type": "code",
   "execution_count": 62,
   "metadata": {},
   "outputs": [
    {
     "name": "stdout",
     "output_type": "stream",
     "text": [
      "starting the app\n",
      " * Serving Flask app \"__main__\" (lazy loading)\n",
      " * Environment: production\n",
      "   WARNING: Do not use the development server in a production environment.\n",
      "   Use a production WSGI server instead.\n",
      " * Debug mode: on\n"
     ]
    },
    {
     "name": "stderr",
     "output_type": "stream",
     "text": [
      " * Running on http://127.0.0.1:1000/ (Press CTRL+C to quit)\n",
      "127.0.0.1 - - [22/May/2020 16:11:01] \"GET / HTTP/1.1\" 200 -\n",
      "127.0.0.1 - - [22/May/2020 16:11:08] \"POST /prediction HTTP/1.1\" 200 -\n"
     ]
    },
    {
     "name": "stdout",
     "output_type": "stream",
     "text": [
      "{\"data\": [[0.06916426512968299, 0.2889221556886228, 0.125]]}\n",
      "[[0.06916427 0.28892216 0.125     ]]\n",
      "reached the scaling part\n",
      "<class 'dict'>\n",
      "Normal text is:  {'result': [[0.03619758951205429]]}\n",
      "Inverse transform is {'result': [[0.03619758951205429]]}\n",
      "[[0.03619758951205429]]\n"
     ]
    }
   ],
   "source": [
    "import numpy as np\n",
    "from flask import Flask, request, jsonify, render_template, url_for\n",
    "import pickle\n",
    "import pandas as pd\n",
    "from sklearn.preprocessing import MinMaxScaler\n",
    "\n",
    "\n",
    "app = Flask(__name__)\n",
    "\n",
    "scoreurl = 'http://a33f08e4-a26a-4f35-8265-6d72c3a2ecb3.westeurope.azurecontainer.io/score'\n",
    "\n",
    "def scaling(test):\n",
    "    file = pd.read_csv('data/turbine_training_set.csv')\n",
    "    file = file[['Turbine_exit_pressure_bar', 'Turbine_exit_temperature_C', 'Ship_speed_knots' ]]\n",
    "    sc = MinMaxScaler()\n",
    "    train = sc.fit_transform(file)\n",
    "    test = sc.transform(test)\n",
    "    return test\n",
    "      \n",
    "\n",
    "@app.route('/')\n",
    "def home():\n",
    "    #return 'Hello World'\n",
    "    return render_template('home.html')\n",
    "    #return render_template('index.html')\n",
    "\n",
    "@app.route('/prediction',methods = ['POST'])\n",
    "def prediction():\n",
    "    scoreurl = 'http://a33f08e4-a26a-4f35-8265-6d72c3a2ecb3.westeurope.azurecontainer.io/score'\n",
    "    int_features = [float(x) for x in request.form.values()]\n",
    "    final_features = [np.array(int_features)]\n",
    "    scaled = scaling(final_features)\n",
    "    \n",
    "    test = json.dumps({'data': scaled.tolist()})\n",
    "    print(test)\n",
    "    print(scaled)\n",
    "\n",
    "    print('reached the scaling part')\n",
    "    headers = {'Content-Type':'application/json'}\n",
    "\n",
    "\n",
    "    resp = requests.post(scoreurl, test, headers=headers)\n",
    "    resp = json.loads(json.loads(resp.text))\n",
    "    print(type(resp))\n",
    "    print('Normal text is: ',resp)\n",
    "    print('Inverse transform is',resp)\n",
    "    print(resp['result'])\n",
    "    result = inverse_transform(resp['result'])\n",
    "    \n",
    " \n",
    "\n",
    "    #output = round(prediction[0], 2)\n",
    "    return render_template('home.html', prediction_text=\"Turbine Outpur {}\".format(result[0][0]))\n",
    "\n",
    "@app.route('/predict_api',methods=['POST'])\n",
    "def predict_api():\n",
    "    '''\n",
    "    For direct API calls trought request\n",
    "    '''\n",
    "    data = request.get_json(force=True)\n",
    "    scaled = scaling(data)\n",
    "    headers = {'Content-Type':'application/json'}\n",
    "    resp = requests.post(scoreurl, scaled, headers=headers)\n",
    "    \n",
    "    print(resp)\n",
    "    print(resp.text)\n",
    "    \n",
    "    \n",
    "    \n",
    "    #prediction = model.predict([np.array(list(data.values()))])\n",
    "\n",
    "    output = resp[0]\n",
    "    return jsonify(output)\n",
    "\n",
    "\n",
    "\n",
    "if __name__ == '__main__':\n",
    "    print('starting the app')\n",
    "    app.run(port = 1000, debug=True, use_reloader=False )"
   ]
  },
  {
   "cell_type": "code",
   "execution_count": null,
   "metadata": {},
   "outputs": [],
   "source": []
  },
  {
   "cell_type": "code",
   "execution_count": null,
   "metadata": {},
   "outputs": [],
   "source": []
  },
  {
   "cell_type": "code",
   "execution_count": null,
   "metadata": {},
   "outputs": [],
   "source": []
  },
  {
   "cell_type": "code",
   "execution_count": 61,
   "metadata": {},
   "outputs": [
    {
     "name": "stdout",
     "output_type": "stream",
     "text": [
      "features is: [[  1.33 635.     6.  ]]\n",
      "(1, 3)\n",
      "(7160, 3) (1, 3)\n",
      "{\"data\": [[0.06916426512968299, 0.2889221556886228, 0.125]]}\n",
      "[[0.06916427 0.28892216 0.125     ]]\n",
      "reached the scaling part\n",
      "<class 'dict'>\n",
      "Normal text is:  {'result': [[0.03619758951205429]]}\n",
      "Inverse transform is {'result': [[0.03619758951205429]]}\n",
      "[[0.03619758951205429]]\n",
      "1016.7551693621878\n"
     ]
    },
    {
     "ename": "SyntaxError",
     "evalue": "'return' outside function (<ipython-input-61-79e7baffbf31>, line 57)",
     "output_type": "error",
     "traceback": [
      "\u001b[1;36m  File \u001b[1;32m\"<ipython-input-61-79e7baffbf31>\"\u001b[1;36m, line \u001b[1;32m57\u001b[0m\n\u001b[1;33m    return render_template('home.html', prediction_text=\"Turbine Outpur {}\".format(resp))\u001b[0m\n\u001b[1;37m                                                                                         ^\u001b[0m\n\u001b[1;31mSyntaxError\u001b[0m\u001b[1;31m:\u001b[0m 'return' outside function\n"
     ]
    }
   ],
   "source": [
    "import numpy as np\n",
    "from flask import Flask, request, jsonify, render_template, url_for\n",
    "import pickle\n",
    "import pandas as pd\n",
    "from sklearn.preprocessing import MinMaxScaler\n",
    "import requests\n",
    "import json\n",
    "\n",
    "\n",
    "def scaling(test):\n",
    "    file = pd.read_csv('data/turbine_training_set.csv')\n",
    "    file = file[['Turbine_exit_pressure_bar', 'Turbine_exit_temperature_C', 'Ship_speed_knots' ]]\n",
    "    \n",
    "    sc = MinMaxScaler()\n",
    "    train = sc.fit_transform(file)\n",
    "    test = sc.transform(test)\n",
    "    print(train.shape, test.shape)\n",
    "    return test\n",
    "\n",
    "def inverse_transform(test):\n",
    "    file = pd.read_csv('data/turbine_training_set.csv')\n",
    "    file = file['output_power'].values.reshape(-1,1)\n",
    "    \n",
    "    sc = MinMaxScaler()\n",
    "    train = sc.fit_transform(file)\n",
    "    #test = test.values.reshape(-1,1)\n",
    "    result = sc.inverse_transform(test)\n",
    "    return result\n",
    "    \n",
    "\n",
    "scoreurl = 'http://a33f08e4-a26a-4f35-8265-6d72c3a2ecb3.westeurope.azurecontainer.io/score'\n",
    "\n",
    "values = [1.33, 635, 6]\n",
    "features = np.array([values])\n",
    "print('features is:', features)\n",
    "print(features.shape)\n",
    "scaled = scaling(features)\n",
    "\n",
    "test = json.dumps({'data': scaled.tolist()})\n",
    "print(test)\n",
    "print(scaled)\n",
    "\n",
    "print('reached the scaling part')\n",
    "headers = {'Content-Type':'application/json'}\n",
    "\n",
    "\n",
    "resp = requests.post(scoreurl, test, headers=headers)\n",
    "resp = json.loads(json.loads(resp.text))\n",
    "print(type(resp))\n",
    "print('Normal text is: ',resp)\n",
    "print('Inverse transform is',resp)\n",
    "print(resp['result'])\n",
    "result = inverse_transform(resp['result'])\n",
    "print(result[0][0])\n",
    "\n",
    "#output = round(prediction[0], 2)\n",
    "return render_template('home.html', prediction_text=\"Turbine Outpur {}\".format(resp))\n",
    "\n"
   ]
  },
  {
   "cell_type": "code",
   "execution_count": null,
   "metadata": {},
   "outputs": [],
   "source": []
  },
  {
   "cell_type": "code",
   "execution_count": null,
   "metadata": {},
   "outputs": [],
   "source": []
  },
  {
   "cell_type": "code",
   "execution_count": null,
   "metadata": {},
   "outputs": [],
   "source": []
  },
  {
   "cell_type": "code",
   "execution_count": 32,
   "metadata": {},
   "outputs": [
    {
     "name": "stdout",
     "output_type": "stream",
     "text": [
      "<class 'requests.models.Response'>\n"
     ]
    }
   ],
   "source": [
    "import requests\n",
    "\n",
    "url = requests.get('https://stackoverflow.com/questions/25016301/class-requests-models-response-to-json')\n",
    "print(type(url))"
   ]
  },
  {
   "cell_type": "code",
   "execution_count": null,
   "metadata": {},
   "outputs": [],
   "source": []
  }
 ],
 "metadata": {
  "kernelspec": {
   "display_name": "Python 3",
   "language": "python",
   "name": "python3"
  },
  "language_info": {
   "codemirror_mode": {
    "name": "ipython",
    "version": 3
   },
   "file_extension": ".py",
   "mimetype": "text/x-python",
   "name": "python",
   "nbconvert_exporter": "python",
   "pygments_lexer": "ipython3",
   "version": "3.7.3"
  }
 },
 "nbformat": 4,
 "nbformat_minor": 2
}
